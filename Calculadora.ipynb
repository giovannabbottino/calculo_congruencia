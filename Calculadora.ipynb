{
 "cells": [
  {
   "cell_type": "code",
   "execution_count": 33,
   "metadata": {},
   "outputs": [
    {
     "name": "stdout",
     "output_type": "stream",
     "text": [
      "5603 (mod 495) = 158\n"
     ]
    },
    {
     "data": {
      "text/plain": [
       "158"
      ]
     },
     "execution_count": 33,
     "metadata": {},
     "output_type": "execute_result"
    }
   ],
   "source": [
    "def mod(a, m):\n",
    "    resultado = 0\n",
    "\n",
    "    if (a > 0 and m > 0) or (abs(a) % abs(m) == 0):\n",
    "        resultado = a%m\n",
    "    elif a < 0 and m < 0:\n",
    "        resultado = (abs(a) % abs(m)) *-1\n",
    "    elif a < 0:\n",
    "        resultado = m - (abs(a) % m)\n",
    "    elif m < 0:\n",
    "        resultado = m + (a % abs(m))\n",
    "    print (str(a) + \" (mod \" + str(m) +\") = \" + str(resultado))\n",
    "    return resultado"
   ]
  },
  {
   "cell_type": "code",
   "execution_count": null,
   "metadata": {},
   "outputs": [],
   "source": [
    "print('Insira B ≡ A(mod M)')\n",
    "b = int(input('b: '))\n",
    "a = int(input('a: '))\n",
    "m = int(input('m: '))\n",
    "\n",
    "print(str(b) + \" ≡ \" + str(a) + \"(mod \"+ str(m) + \")\")\n",
    "resultadob = mod(b, m)\n",
    "resultadoa = mod(a, m)\n",
    "if (resultadob == resultadoa):\n",
    "    print('É uma congruencia válida!')\n",
    "else:\n",
    "    print('Não é uma congruencia válida!')"
   ]
  },
  {
   "cell_type": "code",
   "execution_count": 12,
   "metadata": {},
   "outputs": [],
   "source": [
    "def calculadoraCongruencia(escolha, a, b, m):\n",
    "    resultado = 0\n",
    "    if escolha == 1:\n",
    "#         print('Insira (A + B)(mod M)')\n",
    "#         print('(' + str(a) + ' + ' + str(b)+ ')(mod ' + str(m) + ')')\n",
    "        resultadoa = mod(a, m)\n",
    "        resultadob = mod(b, m)\n",
    "        soma = resultadoa + resultadob\n",
    "        resultado = mod(soma, m)\n",
    "    elif escolha == 2:\n",
    "#         print('Insira (A - B)(mod M)')\n",
    "#         print('(' + str(a) + ' - ' + str(b)+ ')(mod ' + str(m) + ')')\n",
    "        resultadoa = mod(a, m)\n",
    "        resultadob = mod(b, m)\n",
    "        subtracao = resultadoa - resultadob\n",
    "        resultado = mod(subtracao, m)\n",
    "\n",
    "    elif escolha == 3:\n",
    "#         print('Insira (A * B)(mod M)')\n",
    "#         print('(' + str(a) + ' * ' + str(b)+ ')(mod ' + str(m) + ')')\n",
    "        resultadoa = mod(a, m)\n",
    "        resultadob = mod(b, m)\n",
    "        multiplicacao = resultadoa * resultadob\n",
    "        resultado = mod(multiplicacao, m)\n",
    "\n",
    "    elif escolha == 4:\n",
    "#         print('Insira (A ^ B)(mod M)')\n",
    "#         print('(' + str(a) + ' ^ ' + str(b)+ ')(mod ' + str(m) + ')')\n",
    "        resultadoa = mod(a, m)\n",
    "        expo = resultadoa ** b\n",
    "        resultado = mod(expo, m)\n",
    "\n",
    "    else: \n",
    "        print('Nenhuma escolha selecionada')\n",
    "\n",
    "    return resultado\n",
    "\n",
    "print('Calculadora de congruencia')\n",
    "print('<1> adicao')\n",
    "print('<2> subtracao')\n",
    "print('<3> multiplicacao')\n",
    "print('<4> exponenciacao')\n",
    "escolha = int(input())\n",
    "a = int(input('a: '))\n",
    "b = int(input('b: '))\n",
    "m = int(input('m: '))\n",
    "calculadoraCongruencia(escolha, a, b, m)"
   ]
  },
  {
   "cell_type": "code",
   "execution_count": 32,
   "metadata": {},
   "outputs": [
    {
     "name": "stdout",
     "output_type": "stream",
     "text": [
      "Quais os x e y?\n",
      "2: 23 b\n",
      "14: 5 r\n",
      "18: 25 z\n",
      "w: 25\n",
      "n: 23\n",
      "g: 5\n"
     ]
    }
   ],
   "source": [
    "## cifra afim\n",
    "print('Quais os x e y?')\n",
    "x = 5\n",
    "y = 13\n",
    "# x>0, y<26 \n",
    "# mdc( x, 26) = 1\n",
    "tentativa = [0, 1,2,3,4,5,6,7,8,9,10,11,12,13,14,15,16,17,18,19,20,21,22,23,24,25]\n",
    "\n",
    "for m in tentativa:\n",
    "    primeiro = calculadoraCongruencia(3, x, m, 26)\n",
    "    cifra = calculadoraCongruencia(1, primeiro, y, 26)\n",
    "    if cifra == 25:\n",
    "        print(str(m) + ': ' + str(cifra) + ' z')\n",
    "        w = m\n",
    "    if cifra == 23:\n",
    "        print(str(m) + ': ' + str(cifra) + ' b')\n",
    "        n = m\n",
    "    if cifra == 5:\n",
    "        print(str(m) + ': ' + str(cifra)+ ' r')\n",
    "        g = m\n",
    "        \n",
    "primeiro = calculadoraCongruencia(3, x, w, 26)\n",
    "w = calculadoraCongruencia(1, primeiro, y, 26)\n",
    "\n",
    "primeiro = calculadoraCongruencia(3, x, n, 26)\n",
    "n = calculadoraCongruencia(1, primeiro, y, 26)\n",
    "\n",
    "primeiro = calculadoraCongruencia(3, x, g, 26)\n",
    "g = calculadoraCongruencia(1, primeiro, y, 26)\n",
    "\n",
    "print('w: ' +str(w))\n",
    "print('n: ' +str(n))\n",
    "print('g: ' +str(g))"
   ]
  }
 ],
 "metadata": {
  "kernelspec": {
   "display_name": "Python 3",
   "language": "python",
   "name": "python3"
  },
  "language_info": {
   "codemirror_mode": {
    "name": "ipython",
    "version": 3
   },
   "file_extension": ".py",
   "mimetype": "text/x-python",
   "name": "python",
   "nbconvert_exporter": "python",
   "pygments_lexer": "ipython3",
   "version": "3.6.9"
  }
 },
 "nbformat": 4,
 "nbformat_minor": 4
}
